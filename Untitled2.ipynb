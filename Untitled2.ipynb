{
  "nbformat": 4,
  "nbformat_minor": 0,
  "metadata": {
    "colab": {
      "name": "Untitled2.ipynb",
      "provenance": [],
      "authorship_tag": "ABX9TyNpOrvIcf8powTV7FsU5Xv/",
      "include_colab_link": true
    },
    "kernelspec": {
      "name": "python3",
      "display_name": "Python 3"
    },
    "language_info": {
      "name": "python"
    }
  },
  "cells": [
    {
      "cell_type": "markdown",
      "metadata": {
        "id": "view-in-github",
        "colab_type": "text"
      },
      "source": [
        "<a href=\"https://colab.research.google.com/github/mariem-elfouzi/check3/blob/main/Untitled2.ipynb\" target=\"_parent\"><img src=\"https://colab.research.google.com/assets/colab-badge.svg\" alt=\"Open In Colab\"/></a>"
      ]
    },
    {
      "cell_type": "code",
      "metadata": {
        "id": "OMHPjivMpqT0"
      },
      "source": [
        "#question 1\n",
        "list=[1]\n",
        "n=1\n",
        "while n!=0 and n<100:\n",
        "  n=int(input())\n",
        "  list.append(n)\n",
        "m=1\n",
        "for i in range (1,len(list)):\n",
        "  m=m*list[i]\n",
        "print(m)"
      ],
      "execution_count": null,
      "outputs": []
    },
    {
      "cell_type": "code",
      "metadata": {
        "colab": {
          "base_uri": "https://localhost:8080/"
        },
        "id": "0fdoYgqBtgSN",
        "outputId": "2dfe59ee-396e-4f24-c59e-3008f812993b"
      },
      "source": [
        "#question 2\n",
        "def second(elem):\n",
        "  return elem[1]\n",
        "list=[(2,5),(1,2),(4,4),(2,3),(2,1)]\n",
        "list.sort(key=second)\n",
        "print(list)\n"
      ],
      "execution_count": 26,
      "outputs": [
        {
          "output_type": "stream",
          "text": [
            "[(2, 1), (1, 2), (2, 3), (4, 4), (2, 5)]\n"
          ],
          "name": "stdout"
        }
      ]
    },
    {
      "cell_type": "code",
      "metadata": {
        "colab": {
          "base_uri": "https://localhost:8080/"
        },
        "id": "HBpWZBiyGqto",
        "outputId": "57f6b7ca-161a-4a73-d7c0-d5b8a396667e"
      },
      "source": [
        "#question 3\n",
        "d1={\"a\":100,\"b\":200,\"c\":300}\n",
        "d2={\"a\":300,\"b\":200,\"d\":400}\n",
        "a1=int(d1[\"a\"])\n",
        "a2=int(d2[\"a\"])\n",
        "b1=int(d1[\"b\"])\n",
        "b2=int(d2[\"b\"])\n",
        "d3={\"a\":a1+a2,\"b\":b1+b2,\"c\":d1[\"c\"],\"d\":d2[\"d\"]}\n",
        "print(d3)"
      ],
      "execution_count": 30,
      "outputs": [
        {
          "output_type": "stream",
          "text": [
            "{'a': 400, 'b': 400, 'c': 300, 'd': 400}\n"
          ],
          "name": "stdout"
        }
      ]
    },
    {
      "cell_type": "code",
      "metadata": {
        "id": "FPucVRdcKD6B"
      },
      "source": [
        "#question 4\n",
        "n=int(input())\n",
        "dicti={}\n",
        "for i in range (1,n+1):\n",
        "  dicti[i]=i**2\n",
        "print(dicti)\n"
      ],
      "execution_count": null,
      "outputs": []
    },
    {
      "cell_type": "code",
      "metadata": {
        "colab": {
          "base_uri": "https://localhost:8080/"
        },
        "id": "h6AkTZt1LhG6",
        "outputId": "887f25c7-d046-4212-b886-ee6557cad6c1"
      },
      "source": [
        "#question 5\n",
        "def second (elem):\n",
        "  return float(elem[1])\n",
        "list=[('item1','12.20'),('item2','15.10'),('item3','24.5')]\n",
        "list.sort(key=second)\n",
        "list.reverse()\n",
        "print(list)"
      ],
      "execution_count": 34,
      "outputs": [
        {
          "output_type": "stream",
          "text": [
            "[('item3', '24.5'), ('item2', '15.10'), ('item1', '12.20')]\n"
          ],
          "name": "stdout"
        }
      ]
    }
  ]
}